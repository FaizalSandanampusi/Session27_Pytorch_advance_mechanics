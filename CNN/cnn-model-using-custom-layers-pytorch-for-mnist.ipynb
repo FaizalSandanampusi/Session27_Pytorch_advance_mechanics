{
 "cells": [
  {
   "cell_type": "markdown",
   "metadata": {
    "_cell_guid": "241358a4-f7e0-47b4-b513-938d58d67451",
    "_uuid": "b91d61a4-2d28-424e-ab4b-55ff4b52dffa",
    "collapsed": false,
    "id": "mkYh2DeSNRsM",
    "jupyter": {
     "outputs_hidden": false
    },
    "trusted": true
   },
   "source": [
    "# CNN based model using MNIST dataset and using custom torch layers"
   ]
  },
  {
   "cell_type": "markdown",
   "metadata": {
    "_cell_guid": "f41eb75d-1dda-478f-bad0-8ccfbb1ca8e0",
    "_uuid": "98ac9149-45e2-4241-b28e-c90d341c45d4",
    "collapsed": false,
    "id": "rfBNt5vGOLhS",
    "jupyter": {
     "outputs_hidden": false
    },
    "trusted": true
   },
   "source": [
    "## Custom Layers definition"
   ]
  },
  {
   "cell_type": "code",
   "execution_count": null,
   "metadata": {
    "_cell_guid": "6c9b20c8-d513-4d9b-968f-19aad620e570",
    "_uuid": "d0f5b598-7bcc-436f-8f13-736f04263fa4",
    "collapsed": false,
    "execution": {
     "iopub.execute_input": "2025-02-02T09:56:29.775506Z",
     "iopub.status.busy": "2025-02-02T09:56:29.775147Z",
     "iopub.status.idle": "2025-02-02T09:56:29.787267Z",
     "shell.execute_reply": "2025-02-02T09:56:29.786286Z",
     "shell.execute_reply.started": "2025-02-02T09:56:29.775476Z"
    },
    "id": "COXfTCFvOQ8H",
    "jupyter": {
     "outputs_hidden": false
    },
    "trusted": true
   },
   "outputs": [],
   "source": [
    "import torch\n",
    "import torch.nn.functional as F\n",
    "from tqdm import tqdm\n",
    "import math\n",
    "\n",
    "class CustomConv2d(torch.nn.Module):\n",
    "    def __init__(self, in_channels, out_channels, kernel_size, stride=1, padding=0):\n",
    "        super().__init__()\n",
    "        self.in_channels = in_channels\n",
    "        self.out_channels = out_channels\n",
    "        self.kernel_size = kernel_size\n",
    "        self.stride = stride\n",
    "        self.padding = padding\n",
    "        \n",
    "        # Kaiming/He initialization for ReLU\n",
    "        fan_in = in_channels * kernel_size * kernel_size\n",
    "        bound = math.sqrt(2.0 / fan_in)\n",
    "        self.weights = torch.nn.Parameter(torch.randn(out_channels, in_channels, kernel_size, kernel_size) * bound)\n",
    "        self.bias = torch.nn.Parameter(torch.zeros(out_channels))\n",
    "\n",
    "    def forward(self, x):\n",
    "        return F.conv2d(x, self.weights, self.bias, stride=self.stride, padding=self.padding)\n",
    "\n",
    "class CustomBatchNorm2d(torch.nn.Module):\n",
    "    def __init__(self, num_features, eps=1e-5, momentum=0.1):\n",
    "        super().__init__()\n",
    "        self.num_features = num_features\n",
    "        self.eps = eps\n",
    "        self.momentum = momentum\n",
    "        \n",
    "        self.gamma = torch.nn.Parameter(torch.ones(num_features))\n",
    "        self.beta = torch.nn.Parameter(torch.zeros(num_features))\n",
    "        self.running_mean = torch.zeros(num_features)\n",
    "        self.running_var = torch.ones(num_features)\n",
    "        \n",
    "    def forward(self, x):\n",
    "        if self.training:\n",
    "            mean = x.mean([0, 2, 3])\n",
    "            var = x.var([0, 2, 3], unbiased=False)\n",
    "            \n",
    "            # Update running statistics\n",
    "            self.running_mean = (1 - self.momentum) * self.running_mean.to(x.device) + self.momentum * mean\n",
    "            self.running_var = (1 - self.momentum) * self.running_var.to(x.device) + self.momentum * var\n",
    "        else:\n",
    "            mean = self.running_mean.to(x.device)\n",
    "            var = self.running_var.to(x.device)\n",
    "        \n",
    "        x_norm = (x - mean[None, :, None, None]) / torch.sqrt(var[None, :, None, None] + self.eps)\n",
    "        return self.gamma[None, :, None, None] * x_norm + self.beta[None, :, None, None]\n",
    "\n",
    "class CustomMaxPool2d(torch.nn.Module):\n",
    "    def __init__(self, kernel_size, stride=None, padding=0):\n",
    "        super().__init__()\n",
    "        self.kernel_size = kernel_size\n",
    "        self.stride = stride if stride is not None else kernel_size\n",
    "        self.padding = padding\n",
    "\n",
    "    def forward(self, x):\n",
    "        return F.max_pool2d(x, self.kernel_size, self.stride, self.padding)\n",
    "\n",
    "class CustomLinear(torch.nn.Module):\n",
    "    def __init__(self, in_features, out_features):\n",
    "        super().__init__()\n",
    "        self.in_features = in_features\n",
    "        self.out_features = out_features\n",
    "        \n",
    "        # Kaiming/He initialization for ReLU\n",
    "        bound = math.sqrt(2.0 / in_features)\n",
    "        self.weights = torch.nn.Parameter(torch.randn(out_features, in_features) * bound)\n",
    "        self.bias = torch.nn.Parameter(torch.zeros(out_features))\n",
    "\n",
    "    def forward(self, x):\n",
    "        if x.dim() > 2:\n",
    "            x = x.view(x.size(0), -1)\n",
    "        return torch.addmm(self.bias, x, self.weights.t())"
   ]
  },
  {
   "cell_type": "markdown",
   "metadata": {
    "_cell_guid": "5fefd341-b801-43e2-b9a8-4c56152af5f4",
    "_uuid": "4bc86d3e-6568-4b25-8a74-f2f3d5e81d4b",
    "collapsed": false,
    "id": "LmSHRd2gIfKJ",
    "jupyter": {
     "outputs_hidden": false
    },
    "trusted": true
   },
   "source": [
    "## Load and Preprocess MNIST Dataset"
   ]
  },
  {
   "cell_type": "code",
   "execution_count": null,
   "metadata": {
    "_cell_guid": "c387728c-9233-4b9f-a05e-2c7e5f3668e7",
    "_uuid": "cb22ecd6-35b0-4d28-8324-78a3612ed5ab",
    "collapsed": false,
    "execution": {
     "iopub.execute_input": "2025-02-02T09:55:21.752292Z",
     "iopub.status.busy": "2025-02-02T09:55:21.751964Z",
     "iopub.status.idle": "2025-02-02T09:55:21.858010Z",
     "shell.execute_reply": "2025-02-02T09:55:21.857248Z",
     "shell.execute_reply.started": "2025-02-02T09:55:21.752264Z"
    },
    "id": "9MCZdZLyGi94",
    "jupyter": {
     "outputs_hidden": false
    },
    "outputId": "e3eecd8c-6c8f-4d95-9445-9f35bc1af599",
    "trusted": true
   },
   "outputs": [],
   "source": [
    "transform = transforms.Compose([\n",
    "    transforms.ToTensor(),\n",
    "    transforms.Normalize((0.1307,), (0.3081,))\n",
    "])\n",
    "\n",
    "train_dataset = datasets.MNIST(root='./data', train=True, download=True, transform=transform)\n",
    "\n",
    "test_dataset = datasets.MNIST(root='./data', train=False, download=True, transform=transform)\n",
    "\n",
    "train_loader = torch.utils.data.DataLoader(train_dataset, batch_size=128, shuffle=True, num_workers=8, pin_memory=True)\n",
    "\n",
    "test_loader = DataLoader(test_dataset, batch_size=128, shuffle=False, num_workers=8, pin_memory=True)"
   ]
  },
  {
   "cell_type": "markdown",
   "metadata": {
    "_cell_guid": "c7bf5f4c-5aef-4aa0-93ba-692f1b58d58f",
    "_uuid": "eca28c33-906e-43ea-93a0-59fc88771b82",
    "collapsed": false,
    "id": "GMpPUxEGLV7d",
    "jupyter": {
     "outputs_hidden": false
    },
    "trusted": true
   },
   "source": [
    "## Define the CNN Model"
   ]
  },
  {
   "cell_type": "code",
   "execution_count": null,
   "metadata": {
    "_cell_guid": "47d75393-0e18-4703-b352-cd5ec1c1df32",
    "_uuid": "93c826c1-4d96-4a30-a06e-2f939c82a6be",
    "collapsed": false,
    "execution": {
     "iopub.execute_input": "2025-02-02T09:56:35.658510Z",
     "iopub.status.busy": "2025-02-02T09:56:35.658151Z",
     "iopub.status.idle": "2025-02-02T09:56:35.667414Z",
     "shell.execute_reply": "2025-02-02T09:56:35.666499Z",
     "shell.execute_reply.started": "2025-02-02T09:56:35.658482Z"
    },
    "id": "ick-fFKbJ92v",
    "jupyter": {
     "outputs_hidden": false
    },
    "trusted": true
   },
   "outputs": [],
   "source": [
    "# Custom CNN Model\n",
    "class CustomCNN(torch.nn.Module):\n",
    "    def __init__(self):\n",
    "        super().__init__()\n",
    "        self.conv1 = CustomConv2d(1, 32, kernel_size=3, stride=1, padding=1)\n",
    "        self.bn1 = CustomBatchNorm2d(32)\n",
    "        self.conv2 = CustomConv2d(32, 64, kernel_size=3, stride=1, padding=1)\n",
    "        self.bn2 = CustomBatchNorm2d(64)\n",
    "        self.pool = CustomMaxPool2d(kernel_size=2, stride=2)\n",
    "        self.fc1 = CustomLinear(64 * 7 * 7, 128)\n",
    "        self.fc2 = CustomLinear(128, 10)\n",
    "        \n",
    "        self._initialize_weights()\n",
    "        torch.backends.cudnn.benchmark = True\n",
    "\n",
    "    def _initialize_weights(self):\n",
    "        # Initialize final layer with smaller weights\n",
    "        bound = 1.0 / math.sqrt(self.fc2.weights.size(1))\n",
    "        self.fc2.weights.data.uniform_(-bound, bound)\n",
    "        self.fc2.bias.data.zero_()\n",
    "\n",
    "    def forward(self, x):\n",
    "        x = self.conv1(x)\n",
    "        x = self.bn1(x)\n",
    "        x = F.relu(x)\n",
    "        x = self.pool(x)\n",
    "        \n",
    "        x = self.conv2(x)\n",
    "        x = self.bn2(x)\n",
    "        x = F.relu(x)\n",
    "        x = self.pool(x)\n",
    "        \n",
    "        x = x.view(x.size(0), -1)\n",
    "        x = F.relu(self.fc1(x))\n",
    "        x = self.fc2(x)\n",
    "        return x\n",
    "\n",
    "def evaluate(model, test_loader, criterion, device):\n",
    "    model.eval()\n",
    "    correct = 0\n",
    "    total = 0\n",
    "    test_loss = 0\n",
    "    \n",
    "    with torch.no_grad():\n",
    "        for images, labels in test_loader:\n",
    "            images, labels = images.to(device), labels.to(device)\n",
    "            outputs = model(images)\n",
    "            loss = criterion(outputs, labels)\n",
    "            \n",
    "            test_loss += loss.item()\n",
    "            _, predicted = torch.max(outputs.data, 1)\n",
    "            total += labels.size(0)\n",
    "            correct += (predicted == labels).sum().item()\n",
    "            \n",
    "    return test_loss / len(test_loader), 100 * correct / total"
   ]
  },
  {
   "cell_type": "markdown",
   "metadata": {
    "_cell_guid": "407e08df-5c6f-4053-ad03-dfbbe09fe8db",
    "_uuid": "5db24848-700c-48ec-ac87-27f70f0cb703",
    "collapsed": false,
    "id": "PhtR6ktGOmJ6",
    "jupyter": {
     "outputs_hidden": false
    },
    "trusted": true
   },
   "source": [
    "## Training Module"
   ]
  },
  {
   "cell_type": "code",
   "execution_count": null,
   "metadata": {
    "_cell_guid": "e65e3219-7d78-4a94-adb3-24f5eea0dc44",
    "_uuid": "04ff5e6a-f6f8-407d-bfb4-5c37bc5ad86a",
    "collapsed": false,
    "execution": {
     "iopub.execute_input": "2025-02-02T09:56:38.461393Z",
     "iopub.status.busy": "2025-02-02T09:56:38.461065Z",
     "iopub.status.idle": "2025-02-02T09:56:38.468157Z",
     "shell.execute_reply": "2025-02-02T09:56:38.467336Z",
     "shell.execute_reply.started": "2025-02-02T09:56:38.461350Z"
    },
    "jupyter": {
     "outputs_hidden": false
    },
    "trusted": true
   },
   "outputs": [],
   "source": [
    "def train_model(model, train_loader, test_loader, optimizer, criterion, device, num_epochs):\n",
    "    best_acc = 0\n",
    "    \n",
    "    for epoch in range(num_epochs):\n",
    "        model.train()\n",
    "        running_loss = 0.0\n",
    "        correct = 0\n",
    "        total = 0\n",
    "        \n",
    "        # Create progress bar for training\n",
    "        pbar = tqdm(train_loader, desc=f'Epoch {epoch+1}/{num_epochs}')\n",
    "        \n",
    "        for images, labels in pbar:\n",
    "            images = images.to(device, non_blocking=True)\n",
    "            labels = labels.to(device, non_blocking=True)\n",
    "            \n",
    "            optimizer.zero_grad(set_to_none=True)\n",
    "            outputs = model(images)\n",
    "            loss = criterion(outputs, labels)\n",
    "            loss.backward()\n",
    "            optimizer.step()\n",
    "            \n",
    "            running_loss += loss.item()\n",
    "            _, predicted = torch.max(outputs.data, 1)\n",
    "            total += labels.size(0)\n",
    "            correct += (predicted == labels).sum().item()\n",
    "            \n",
    "            # Update progress bar\n",
    "            train_acc = 100 * correct / total\n",
    "            pbar.set_postfix({\n",
    "                'loss': f'{running_loss/len(pbar):.3f}',\n",
    "                'acc': f'{train_acc:.2f}%'\n",
    "            })\n",
    "            \n",
    "        # Evaluate on test set\n",
    "        test_loss, test_acc = evaluate(model, test_loader, criterion, device)\n",
    "        \n",
    "        print(f'\\nEpoch {epoch+1}:')\n",
    "        print(f'Train Loss: {running_loss/len(train_loader):.3f}, Train Acc: {train_acc:.2f}%')\n",
    "        print(f'Test Loss: {test_loss:.3f}, Test Acc: {test_acc:.2f}%\\n')\n",
    "        \n",
    "        if test_acc > best_acc:\n",
    "            best_acc = test_acc\n",
    "            \n",
    "    print(f'Best Test Accuracy: {best_acc:.2f}%')"
   ]
  },
  {
   "cell_type": "code",
   "execution_count": null,
   "metadata": {
    "_cell_guid": "22f32ea7-1369-419f-b592-d53d6eccc628",
    "_uuid": "697166e3-ce87-456c-914d-f0ddd225b3ef",
    "collapsed": false,
    "execution": {
     "iopub.execute_input": "2025-02-02T09:56:49.505932Z",
     "iopub.status.busy": "2025-02-02T09:56:49.505637Z",
     "iopub.status.idle": "2025-02-02T09:57:39.498718Z",
     "shell.execute_reply": "2025-02-02T09:57:39.497652Z",
     "shell.execute_reply.started": "2025-02-02T09:56:49.505909Z"
    },
    "jupyter": {
     "outputs_hidden": false
    },
    "trusted": true
   },
   "outputs": [],
   "source": [
    "# Initialize model and move to device\n",
    "device = torch.device(\"cuda\" if torch.cuda.is_available() else \"cpu\")\n",
    "model = CustomCNN().to(device)\n",
    "\n",
    "# Initialize optimizer and criterion with slightly lower learning rate\n",
    "criterion = torch.nn.CrossEntropyLoss()\n",
    "optimizer = torch.optim.Adam(model.parameters(), lr=0.001)\n",
    "\n",
    "# Train the model\n",
    "num_epochs = 5\n",
    "train_model(model, train_loader, test_loader, optimizer, criterion, device, num_epochs)"
   ]
  },
  {
   "cell_type": "markdown",
   "metadata": {
    "_cell_guid": "a043f0cb-9fc3-42ad-aba8-270e57fc73c3",
    "_uuid": "8d22edc3-927a-48f6-92bb-582c61ee1513",
    "collapsed": false,
    "id": "s-sVBbVVL4_b",
    "jupyter": {
     "outputs_hidden": false
    },
    "trusted": true
   },
   "source": [
    "## Evaluate the Model on Test Set"
   ]
  },
  {
   "cell_type": "code",
   "execution_count": null,
   "metadata": {
    "_cell_guid": "b64dc33f-83fd-4920-91fe-917105dc1e16",
    "_uuid": "c72d98cd-a263-4d8f-ba08-ca5f895b9e52",
    "collapsed": false,
    "execution": {
     "iopub.execute_input": "2025-02-02T09:58:02.593926Z",
     "iopub.status.busy": "2025-02-02T09:58:02.593576Z",
     "iopub.status.idle": "2025-02-02T09:58:04.008637Z",
     "shell.execute_reply": "2025-02-02T09:58:04.007428Z",
     "shell.execute_reply.started": "2025-02-02T09:58:02.593895Z"
    },
    "id": "mfIY0w4wL1V8",
    "jupyter": {
     "outputs_hidden": false
    },
    "outputId": "7b684dd0-692f-4219-a4c1-acdf29c757f4",
    "trusted": true
   },
   "outputs": [],
   "source": [
    "# Evaluate the model on the test set\n",
    "model.eval()  # Set model to evaluation mode\n",
    "test_correct = 0\n",
    "test_total = 0\n",
    "with torch.no_grad():  # Disable gradient calculation\n",
    "    for images, labels in test_loader:\n",
    "        images, labels = images.to(device), labels.to(device)\n",
    "        outputs = model(images)\n",
    "        _, predicted = torch.max(outputs.data, 1)\n",
    "        test_total += labels.size(0)\n",
    "        test_correct += (predicted == labels).sum().item()\n",
    "\n",
    "test_accuracy = 100 * test_correct / test_total\n",
    "print(f\"Test Accuracy: {test_accuracy:.2f}%\")"
   ]
  },
  {
   "cell_type": "markdown",
   "metadata": {
    "_cell_guid": "a7a00c07-9fd6-494e-b460-2a3abb6b488d",
    "_uuid": "9d4415f8-99b0-4bcf-9b4e-fb55bc2c335b",
    "collapsed": false,
    "id": "G8RNlZWZL-ES",
    "jupyter": {
     "outputs_hidden": false
    },
    "trusted": true
   },
   "source": [
    "## Visualize Predictions"
   ]
  },
  {
   "cell_type": "code",
   "execution_count": null,
   "metadata": {
    "_cell_guid": "c1f01d8e-f22a-4a7c-80db-7b0edfef9aa9",
    "_uuid": "6933bae7-ae75-402c-b943-404a428e3891",
    "collapsed": false,
    "execution": {
     "iopub.execute_input": "2025-02-02T09:58:09.188679Z",
     "iopub.status.busy": "2025-02-02T09:58:09.188338Z",
     "iopub.status.idle": "2025-02-02T09:58:11.047763Z",
     "shell.execute_reply": "2025-02-02T09:58:11.046735Z",
     "shell.execute_reply.started": "2025-02-02T09:58:09.188656Z"
    },
    "id": "jaXD5HmjL8OB",
    "jupyter": {
     "outputs_hidden": false
    },
    "outputId": "784131bc-b83b-4357-816b-ad108ebe732e",
    "trusted": true
   },
   "outputs": [],
   "source": [
    "# Get a batch of test images\n",
    "dataiter = iter(test_loader)\n",
    "images, labels = next(dataiter)\n",
    "images, labels = images.to(device), labels.to(device)\n",
    "\n",
    "# Make predictions\n",
    "outputs = model(images)\n",
    "_, predicted = torch.max(outputs, 1)\n",
    "\n",
    "# Plot the images and predictions\n",
    "fig, axes = plt.subplots(4, 4, figsize=(10, 10))\n",
    "for i, ax in enumerate(axes.flat):\n",
    "    ax.imshow(images[i].cpu().squeeze(), cmap='gray')\n",
    "    ax.set_title(f\"Pred: {predicted[i].item()}, True: {labels[i].item()}\")\n",
    "    ax.axis('off')\n",
    "plt.show()"
   ]
  },
  {
   "cell_type": "code",
   "execution_count": null,
   "metadata": {
    "_cell_guid": "2e5ab322-e0d9-4cfa-9db5-0bb97686df3a",
    "_uuid": "5b46fa73-02fd-49c9-a784-12d703478007",
    "collapsed": false,
    "id": "3PvGJY8lMfwO",
    "jupyter": {
     "outputs_hidden": false
    },
    "trusted": true
   },
   "outputs": [],
   "source": []
  }
 ],
 "metadata": {
  "accelerator": "GPU",
  "colab": {
   "gpuType": "T4",
   "provenance": []
  },
  "kaggle": {
   "accelerator": "nvidiaTeslaT4",
   "dataSources": [],
   "dockerImageVersionId": 30840,
   "isGpuEnabled": true,
   "isInternetEnabled": true,
   "language": "python",
   "sourceType": "notebook"
  },
  "kernelspec": {
   "display_name": "Python 3",
   "language": "python",
   "name": "python3"
  },
  "language_info": {
   "codemirror_mode": {
    "name": "ipython",
    "version": 3
   },
   "file_extension": ".py",
   "mimetype": "text/x-python",
   "name": "python",
   "nbconvert_exporter": "python",
   "pygments_lexer": "ipython3",
   "version": "3.10.12"
  }
 },
 "nbformat": 4,
 "nbformat_minor": 4
}
